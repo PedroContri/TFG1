{
  "nbformat": 4,
  "nbformat_minor": 0,
  "metadata": {
    "colab": {
      "provenance": []
    },
    "kernelspec": {
      "name": "python3",
      "display_name": "Python 3"
    },
    "language_info": {
      "name": "python"
    }
  },
  "cells": [
    {
      "cell_type": "markdown",
      "source": [
        "# Switch\n",
        "(Chiribella, Beyond Quantum Computers)\n",
        "\n"
      ],
      "metadata": {
        "id": "AIKWq0x1mo2P"
      }
    },
    {
      "cell_type": "markdown",
      "source": [
        "\n",
        "Em 2013, Chiribella desenvolveu um modelo de circuito que coloca os circuitos quânticos convencionais como casos especiais desse novo e mais abrangente tipo de computação, conhecida como computação quântica de alta ordem. Tal prototipo é circuito físico que, ao invés de utilizar qubits e suas portas lógicas, utiliza de bits clássicos com transformações físicas representadas por caixas pretas, as quais retornam valores de funções sem maior conhecimento sobre tais operações.\n",
        "\n",
        "Como definido anteriormente, os circuitos quânticos, os quais são conceitualmente computacionais, possuem qubits representados como fios e transformações unitárias como caixas, as quais são aplicadas uma vez e respeitam uma ordem de evolução da esquerda para direita. Para o circuito de Chiribella, tais limitações causais não são um problema, permitindo modificações no caminho que o circuito pode evoluir, como a implementação de loops, ou seja, para esses novos circuitos, uma mesma transformação física pode ser aplicada múltiplas vezes.\n",
        "\n",
        "Exemplificando esse novo método de computação, Chiribella define o Switch, um dispositivo que aplica a seguinte função de caixas f e g, dependendo de um bit de controle x:\n",
        "\n",
        "\"Função S\"\n",
        "\n",
        "O switch pode ser imaginado como um aparelho com dois compartimentos para que caixas possam ser acopladas, como nesse caso f e g. Esse dispositivo teria fios móveis, os quais alternam a ordem de aplicação das transformações de acordo com o valor do bit clássico.\n",
        "\n",
        "\n",
        "\n",
        "\n",
        "\n",
        "\n"
      ],
      "metadata": {
        "id": "MLnNA63om-P6"
      }
    }
  ]
}