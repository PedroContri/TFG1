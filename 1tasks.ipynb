{
  "nbformat": 4,
  "nbformat_minor": 0,
  "metadata": {
    "colab": {
      "provenance": []
    },
    "kernelspec": {
      "name": "python3",
      "display_name": "Python 3"
    },
    "language_info": {
      "name": "python"
    }
  },
  "cells": [
    {
      "cell_type": "markdown",
      "source": [
        "#Tasks"
      ],
      "metadata": {
        "id": "n-dHlNO77j0q"
      }
    },
    {
      "cell_type": "markdown",
      "source": [
        "###Escrita\n",
        "\n",
        "*Problema Promessa;\n",
        "\n",
        "*Início da gravitação quântia e review Causaloid;\n",
        "\n",
        "*Justificativa;\n",
        "\n",
        "*Objetivos;\n",
        "\n",
        "*Conclusão;\n",
        "\n",
        "*Introdução."
      ],
      "metadata": {
        "id": "FecSQt3p7nIo"
      }
    },
    {
      "cell_type": "markdown",
      "source": [
        "###Formatação\n",
        "*Atribuir circuitos quânticos como figuras;\n",
        "\n",
        "*Colocar página em citações diretas;\n",
        "\n",
        "*Retirar referências, figuras e citações do modelo;\n",
        "\n",
        "*Colocar nomes corretos da banca, datas e afins;\n"
      ],
      "metadata": {
        "id": "DF2RpsmY76QT"
      }
    }
  ]
}