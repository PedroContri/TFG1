{
 "cells": [
  {
   "cell_type": "markdown",
   "metadata": {},
   "source": [
    "## Referências"
   ]
  },
  {
   "cell_type": "markdown",
   "metadata": {},
   "source": [
    "### $1.\\ $ [A new notation of Quantum Mechanics](Dirac_notation.pdf)\n",
    "\n",
    "### $2.\\ $ [Postulados Mecânica Quântica (Jonas Maziero)](https://github.com/jonasmaziero/mecanica_quantica/blob/master/notas_de_aula/17_postulados.ipynb)\n",
    "\n",
    "### $3.\\ $ [Complementariedade, emaranhamento, incerteza e invariância de Lorentz (URL)](https://repositorio.ufsm.br/handle/1/22159)\n",
    "\n",
    "### $4.\\ $ [Complementariedade, emaranhamento, incerteza e invariância de Lorentz (PDF)](DIS_PPGFISICA_2021_BASSO_MARCOS.pdf)\n",
    "\n",
    "### $5.\\ $ [Quantum Computation and Quantum Information](quantumc.pdf)\n",
    "\n",
    "### $6.\\ $ [The Book of Why](bookofwhy.pdf)\n",
    "\n",
    "### $7.\\ $ [Practical computational advantage from the quantum switch on a generalized family of promise problems (URL)](https://arxiv.org/abs/2207.12997)\n",
    "\n",
    "### $8.\\ $ [-- // -- // -- (PDF)](escandon.pdf)\n",
    "\n",
    "### $9.\\ $ [If correlation doesn’t imply causation, then what does?](https://michaelnielsen.org/ddi/if-correlation-doesnt-imply-causation-then-what-does/)\n",
    "\n",
    "### $10.\\ $ [Don’t panic: It’s only the Simpson’s Paradox](https://www.clinfo.eu/simpsons-paradox/)\n",
    "\n",
    "### $11.\\ $ [Causality And Chance in Modern Physics](causalityphysics.pdf)\n",
    "\n",
    "### $12.\\ $ [How Quantum Physicists ‘Flipped Time’ (and How They Didn’t)](https://www.quantamagazine.org/how-quantum-physicists-flipped-time-and-how-they-didnt-20230127/)\n",
    "\n",
    "### $13.\\ $ [Quantum Mischief Rewrites the Laws of Cause and Effect](https://www.quantamagazine.org/quantum-mischief-rewrites-the-laws-of-cause-and-effect-20210311/)\n",
    "\n",
    "### $14.\\ $ [Quantum information causality](garcia.pdf)\n",
    "\n",
    "### $15.\\ $ [Time Replaced by Quantum Correlations](wootters.jpg)\n",
    "\n",
    "### $16.\\ $ [Experimental Aspects of Indefinite Causal Order in Quantum Mechanics](rozema.pdf)\n",
    "\n",
    "### $17.\\ $ [Experimental superposition of a quantum evolution with its time reverse](stromberg.pdf)\n",
    "\n",
    "### $18.\\ $ [Quantum Switch e Portas Hadamard Complexas (Jonas Maziero)](https://nbviewer.org/github/jonasmaziero/computacao_quantica_qiskit/blob/main/qiskit5/14_q_switch.ipynb)\n",
    "\n",
    "### $19.\\ $ [Bell’s theorem for temporal order](Zych.pdf)\n",
    "\n",
    "### $20.\\ $ [Beyond Quantum Computers](https://arxiv.org/pdf/0912.0195v1)\n",
    "\n",
    "### $21.\\ $ [Quantum computations without definite causal structure](https://arxiv.org/pdf/0912.0195)\n",
    "\n",
    "### $22.\\ $ [Experimental superposition of orders of quantum gates](procopio.pdf)\n",
    "\n",
    "### $23.\\ $[A diagrammatic language for the Causaloid framework](https://arxiv.org/pdf/2407.01522)\n",
    "\n",
    "### $24.\\ $[Probability Theories with Dynamic Causal Structure: A New Framework for Quantum Gravity](https://arxiv.org/abs/gr-qc/0509120)\n",
    "\n",
    "### $25.\\ $[A representação de Kraus para a dinâmica de sistemas quânticos abertos](https://arxiv.org/pdf/1510.09081)\n",
    "\n",
    "### $26.\\ $\n",
    "\n",
    "### $27.\\ $\n"
   ]
  },
  {
   "cell_type": "markdown",
   "metadata": {},
   "source": [
    "###"
   ]
  }
 ],
 "metadata": {
  "kernelspec": {
   "display_name": "Python 3 (ipykernel)",
   "language": "python",
   "name": "python3"
  },
  "language_info": {
   "codemirror_mode": {
    "name": "ipython",
    "version": 3
   },
   "file_extension": ".py",
   "mimetype": "text/x-python",
   "name": "python",
   "nbconvert_exporter": "python",
   "pygments_lexer": "ipython3",
   "version": "3.11.7"
  }
 },
 "nbformat": 4,
 "nbformat_minor": 4
}
