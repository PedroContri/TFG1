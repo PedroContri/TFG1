{
  "nbformat": 4,
  "nbformat_minor": 0,
  "metadata": {
    "colab": {
      "provenance": []
    },
    "kernelspec": {
      "name": "python3",
      "display_name": "Python 3"
    },
    "language_info": {
      "name": "python"
    }
  },
  "cells": [
    {
      "cell_type": "code",
      "source": [
        "{\n",
        " \"cells\": [\n",
        "  {\n",
        "   \"cell_type\": \"markdown\",\n",
        "   \"metadata\": {},\n",
        "   \"source\": [\n",
        "    \"# Repositório de Referências\\n\",\n",
        "    \"\\n\",\n",
        "    \"Este notebook contém uma lista de referências organizadas. Cada referência é apresentada com um link clicável que leva ao arquivo correspondente.\"\n",
        "   ]\n",
        "  },\n",
        "  {\n",
        "   \"cell_type\": \"markdown\",\n",
        "   \"metadata\": {},\n",
        "   \"source\": [\n",
        "    \"## Lista de Referências\\n\",\n",
        "    \"\\n\",\n",
        "    \"- [Exemplo.pdf](./referencias/Exemplo.pdf)\\n\",\n",
        "    \"\\n\",\n",
        "    \"### Adicione suas referências abaixo:\\n\",\n",
        "    \"\\n\",\n",
        "    \"- [Arquivo1.pdf](./referencias/Arquivo1.pdf)\\n\",\n",
        "    \"- [Arquivo2.pdf](./referencias/Arquivo2.pdf)\\n\",\n",
        "    \"- [Arquivo3.pdf](./referencias/Arquivo3.pdf)\\n\"\n",
        "   ]\n",
        "  },\n",
        "  {\n",
        "   \"cell_type\": \"code\",\n",
        "   \"execution_count\": null,\n",
        "   \"metadata\": {},\n",
        "   \"outputs\": [],\n",
        "   \"source\": [\n",
        "    \"# Código opcional para listar arquivos automaticamente\\n\",\n",
        "    \"import os\\n\",\n",
        "    \"from IPython.display import Markdown\\n\",\n",
        "    \"\\n\",\n",
        "    \"# Defina o caminho da pasta onde estão as referências\\n\",\n",
        "    \"path = './referencias/'\\n\",\n",
        "    \"\\n\",\n",
        "    \"# Lista todos os arquivos na pasta\\n\",\n",
        "    \"files = os.listdir(path)\\n\",\n",
        "    \"\\n\",\n",
        "    \"# Cria uma lista com links para os arquivos\\n\",\n",
        "    \"links = ''\\n\",\n",
        "    \"for file in files:\\n\",\n",
        "    \"    filepath = os.path.join(path, file)\\n\",\n",
        "    \"    links += f'- [{file}]({filepath})\\n'\\n\",\n",
        "    \"\\n\",\n",
        "    \"# Exibe a lista\\n\",\n",
        "    \"display(Markdown(links))\"\n",
        "   ]\n",
        "  }\n",
        " ],\n",
        " \"metadata\": {\n",
        "  \"kernelspec\": {\n",
        "   \"display_name\": \"Python 3\",\n",
        "   \"language\": \"python\",\n",
        "   \"name\": \"python3\"\n",
        "  },\n",
        "  \"language_info\": {\n",
        "   \"codemirror_mode\": {\n",
        "    \"name\": \"ipython\",\n",
        "    \"version\": 3\n",
        "   },\n",
        "   \"file_extension\": \".py\",\n",
        "   \"mimetype\": \"text/x-python\",\n",
        "   \"name\": \"python\",\n",
        "   \"nbconvert_exporter\": \"python\",\n",
        "   \"pygments_lexer\": \"ipython3\",\n",
        "   \"version\": \"3.8.10\"\n",
        "  }\n",
        " },\n",
        " \"nbformat\": 4,\n",
        " \"nbformat_minor\": 5\n",
        "}\n"
      ],
      "metadata": {
        "colab": {
          "base_uri": "https://localhost:8080/",
          "height": 211
        },
        "id": "JM3hoWRdiEqU",
        "outputId": "cd7c0549-6016-4831-bbec-e242feb83599"
      },
      "execution_count": 1,
      "outputs": [
        {
          "output_type": "error",
          "ename": "NameError",
          "evalue": "name 'null' is not defined",
          "traceback": [
            "\u001b[0;31m---------------------------------------------------------------------------\u001b[0m",
            "\u001b[0;31mNameError\u001b[0m                                 Traceback (most recent call last)",
            "\u001b[0;32m<ipython-input-1-a639afc5f867>\u001b[0m in \u001b[0;36m<cell line: 4>\u001b[0;34m()\u001b[0m\n\u001b[1;32m     27\u001b[0m   {\n\u001b[1;32m     28\u001b[0m    \u001b[0;34m\"cell_type\"\u001b[0m\u001b[0;34m:\u001b[0m \u001b[0;34m\"code\"\u001b[0m\u001b[0;34m,\u001b[0m\u001b[0;34m\u001b[0m\u001b[0;34m\u001b[0m\u001b[0m\n\u001b[0;32m---> 29\u001b[0;31m    \u001b[0;34m\"execution_count\"\u001b[0m\u001b[0;34m:\u001b[0m \u001b[0mnull\u001b[0m\u001b[0;34m,\u001b[0m\u001b[0;34m\u001b[0m\u001b[0;34m\u001b[0m\u001b[0m\n\u001b[0m\u001b[1;32m     30\u001b[0m    \u001b[0;34m\"metadata\"\u001b[0m\u001b[0;34m:\u001b[0m \u001b[0;34m{\u001b[0m\u001b[0;34m}\u001b[0m\u001b[0;34m,\u001b[0m\u001b[0;34m\u001b[0m\u001b[0;34m\u001b[0m\u001b[0m\n\u001b[1;32m     31\u001b[0m    \u001b[0;34m\"outputs\"\u001b[0m\u001b[0;34m:\u001b[0m \u001b[0;34m[\u001b[0m\u001b[0;34m]\u001b[0m\u001b[0;34m,\u001b[0m\u001b[0;34m\u001b[0m\u001b[0;34m\u001b[0m\u001b[0m\n",
            "\u001b[0;31mNameError\u001b[0m: name 'null' is not defined"
          ]
        }
      ]
    }
  ]
}