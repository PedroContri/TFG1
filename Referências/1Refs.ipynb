{
 "cells": [
  {
   "cell_type": "markdown",
   "metadata": {},
   "source": [
    "## Referências"
   ]
  },
  {
   "cell_type": "markdown",
   "metadata": {},
   "source": [
    "### $1.\\ $ [A new notation of Quantum Mechanics](Dirac_notation.pdf)\n",
    "\n",
    "### $2.\\ $ [Postulados Mecânica Quântica (Jonas Maziero)](https://github.com/jonasmaziero/mecanica_quantica/blob/master/notas_de_aula/17_postulados.ipynb)\n",
    "\n",
    "### $3.\\ $ [Complementariedade, emaranhamento, incerteza e invariância de Lorentz (URL)](https://repositorio.ufsm.br/handle/1/22159)\n",
    "\n",
    "### $4.\\ $ [Complementariedade, emaranhamento, incerteza e invariância de Lorentz (PDF)](DIS_PPGFISICA_2021_BASSO_MARCOS.pdf)\n",
    "\n",
    "### $5.\\ $ [Quantum Computation and Quantum Information](quantumc.pdf)\n",
    "\n",
    "### $6.\\ $ [The Book of Why](bookofwhy.pdf)\n",
    "\n",
    "### $7.\\ $ [Practical computational advantage from the quantum switch on a generalized family of promise problems (URL)](https://arxiv.org/abs/2207.12997)\n",
    "\n",
    "### $8.\\ $ [-- // -- // -- (PDF)](escandon.pdf)\n",
    "\n",
    "### $9.\\ $ [If correlation doesn’t imply causation, then what does?](https://michaelnielsen.org/ddi/if-correlation-doesnt-imply-causation-then-what-does/)\n",
    "\n",
    "### $10.\\ $ [Don’t panic: It’s only the Simpson’s Paradox](https://www.clinfo.eu/simpsons-paradox/)\n",
    "\n",
    "### $11.\\ $ [Causality And Chance in Modern Physics](causalityphysics.pdf)\n",
    "\n",
    "### $12.\\ $ [Quantum Computation and Quantum Information](https://nbviewer.org/github/victorpbrz/Livros/blob/main/q-computation%20and%20q-information.pdf)\n",
    "\n",
    "### $13.\\ $ [Quantum Information Theory](https://nbviewer.org/github/victorpbrz/Livros/blob/main/quantum%20information%20theory.pdf)\n",
    "\n",
    "### $14.\\ $ [Quantum Optics - Taming the Quantum](https://nbviewer.org/github/victorpbrz/Livros/blob/main/quantum%20optics%20-%20pierre%20meystre.pdf)\n",
    "\n",
    "### $15.\\ $ [Quantum Optics - M. Scully](https://nbviewer.org/github/victorpbrz/Livros/blob/main/quantum_optics.pdf?flush_cache=true)\n",
    "\n",
    "### $16.\\ $ [Thermodynamics and Thermostatistics](https://nbviewer.org/github/victorpbrz/Livros/blob/main/thermodynamics.pdf)"
   ]
  },
  {
   "cell_type": "markdown",
   "metadata": {},
   "source": [
    "###"
   ]
  }
 ],
 "metadata": {
  "kernelspec": {
   "display_name": "Python 3 (ipykernel)",
   "language": "python",
   "name": "python3"
  },
  "language_info": {
   "codemirror_mode": {
    "name": "ipython",
    "version": 3
   },
   "file_extension": ".py",
   "mimetype": "text/x-python",
   "name": "python",
   "nbconvert_exporter": "python",
   "pygments_lexer": "ipython3",
   "version": "3.11.7"
  }
 },
 "nbformat": 4,
 "nbformat_minor": 4
}
